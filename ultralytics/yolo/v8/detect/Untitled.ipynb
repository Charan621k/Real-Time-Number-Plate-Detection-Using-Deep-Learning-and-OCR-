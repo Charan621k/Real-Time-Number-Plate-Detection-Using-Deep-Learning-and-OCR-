{
 "cells": [
  {
   "cell_type": "code",
   "execution_count": 1,
   "id": "7212e302",
   "metadata": {},
   "outputs": [
    {
     "ename": "SyntaxError",
     "evalue": "invalid syntax (4283934406.py, line 1)",
     "output_type": "error",
     "traceback": [
      "\u001b[1;36m  File \u001b[1;32m\"C:\\Users\\crazy\\AppData\\Local\\Temp\\ipykernel_50824\\4283934406.py\"\u001b[1;36m, line \u001b[1;32m1\u001b[0m\n\u001b[1;33m    python predict.py model='best.pt' source='demo.mp4'\u001b[0m\n\u001b[1;37m                 ^\u001b[0m\n\u001b[1;31mSyntaxError\u001b[0m\u001b[1;31m:\u001b[0m invalid syntax\n"
     ]
    }
   ],
   "source": [
    "python predict.py model='best.pt' source='demo.mp4'"
   ]
  },
  {
   "cell_type": "code",
   "execution_count": 2,
   "id": "d6a5d27f",
   "metadata": {},
   "outputs": [
    {
     "data": {
      "text/plain": [
       "'C:\\\\Users\\\\crazy\\\\Automatic_Number_Plate_Detection_Recognition_YOLOv8\\\\ultralytics\\\\yolo\\\\v8\\\\detect'"
      ]
     },
     "execution_count": 2,
     "metadata": {},
     "output_type": "execute_result"
    }
   ],
   "source": [
    "pwd\n"
   ]
  },
  {
   "cell_type": "code",
   "execution_count": 3,
   "id": "9a5fabff",
   "metadata": {},
   "outputs": [
    {
     "name": "stdout",
     "output_type": "stream",
     "text": [
      "Requirement already satisfied: gdown in c:\\users\\crazy\\anaconda3\\envs\\gputest\\lib\\site-packages (4.7.1)\n",
      "Requirement already satisfied: beautifulsoup4 in c:\\users\\crazy\\anaconda3\\envs\\gputest\\lib\\site-packages (from gdown) (4.11.1)\n",
      "Requirement already satisfied: requests[socks] in c:\\users\\crazy\\anaconda3\\envs\\gputest\\lib\\site-packages (from gdown) (2.28.1)\n",
      "Requirement already satisfied: tqdm in c:\\users\\crazy\\anaconda3\\envs\\gputest\\lib\\site-packages (from gdown) (4.65.0)\n",
      "Requirement already satisfied: six in c:\\users\\crazy\\anaconda3\\envs\\gputest\\lib\\site-packages (from gdown) (1.16.0)\n",
      "Requirement already satisfied: filelock in c:\\users\\crazy\\anaconda3\\envs\\gputest\\lib\\site-packages (from gdown) (3.12.0)\n",
      "Requirement already satisfied: soupsieve>1.2 in c:\\users\\crazy\\anaconda3\\envs\\gputest\\lib\\site-packages (from beautifulsoup4->gdown) (2.3.2.post1)\n",
      "Requirement already satisfied: urllib3<1.27,>=1.21.1 in c:\\users\\crazy\\anaconda3\\envs\\gputest\\lib\\site-packages (from requests[socks]->gdown) (1.26.14)\n",
      "Requirement already satisfied: idna<4,>=2.5 in c:\\users\\crazy\\anaconda3\\envs\\gputest\\lib\\site-packages (from requests[socks]->gdown) (2.10)\n",
      "Requirement already satisfied: charset-normalizer<3,>=2 in c:\\users\\crazy\\anaconda3\\envs\\gputest\\lib\\site-packages (from requests[socks]->gdown) (2.0.4)\n",
      "Requirement already satisfied: certifi>=2017.4.17 in c:\\users\\crazy\\anaconda3\\envs\\gputest\\lib\\site-packages (from requests[socks]->gdown) (2022.12.7)\n",
      "Requirement already satisfied: PySocks!=1.5.7,>=1.5.6 in c:\\users\\crazy\\anaconda3\\envs\\gputest\\lib\\site-packages (from requests[socks]->gdown) (1.7.1)\n",
      "Requirement already satisfied: colorama in c:\\users\\crazy\\anaconda3\\envs\\gputest\\lib\\site-packages (from tqdm->gdown) (0.4.6)\n"
     ]
    }
   ],
   "source": [
    "!pip install gdown\n",
    "\n"
   ]
  },
  {
   "cell_type": "code",
   "execution_count": 4,
   "id": "c97e676f",
   "metadata": {},
   "outputs": [
    {
     "name": "stderr",
     "output_type": "stream",
     "text": [
      "Downloading...\n",
      "From: https://drive.google.com/uc?id=1dIyJooVaowaNUj0R1Q-HUnu-utiGsEj8&confirm=t\n",
      "To: C:\\Users\\crazy\\Automatic_Number_Plate_Detection_Recognition_YOLOv8\\ultralytics\\yolo\\v8\\detect\\best.pt\n",
      "\n",
      "  0%|          | 0.00/52.0M [00:00<?, ?B/s]\n",
      "  1%|1         | 524k/52.0M [00:00<00:14, 3.48MB/s]\n",
      "  2%|2         | 1.05M/52.0M [00:00<00:13, 3.79MB/s]\n",
      "  4%|4         | 2.10M/52.0M [00:00<00:09, 5.46MB/s]\n",
      "  6%|6         | 3.15M/52.0M [00:00<00:07, 6.62MB/s]\n",
      "  8%|8         | 4.19M/52.0M [00:00<00:06, 7.53MB/s]\n",
      " 10%|#         | 5.24M/52.0M [00:00<00:05, 8.19MB/s]\n",
      " 12%|#2        | 6.29M/52.0M [00:00<00:05, 8.66MB/s]\n",
      " 14%|#4        | 7.34M/52.0M [00:00<00:04, 9.08MB/s]\n",
      " 16%|#6        | 8.39M/52.0M [00:01<00:04, 9.38MB/s]\n",
      " 18%|#8        | 9.44M/52.0M [00:01<00:04, 9.45MB/s]\n",
      " 20%|##        | 10.5M/52.0M [00:01<00:04, 9.42MB/s]\n",
      " 22%|##2       | 11.5M/52.0M [00:01<00:04, 9.21MB/s]\n",
      " 24%|##4       | 12.6M/52.0M [00:01<00:04, 9.18MB/s]\n",
      " 26%|##6       | 13.6M/52.0M [00:01<00:04, 9.02MB/s]\n",
      " 28%|##8       | 14.7M/52.0M [00:01<00:03, 9.36MB/s]\n",
      " 31%|###1      | 16.3M/52.0M [00:01<00:03, 10.2MB/s]\n",
      " 34%|###4      | 17.8M/52.0M [00:02<00:03, 10.7MB/s]\n",
      " 37%|###7      | 19.4M/52.0M [00:02<00:02, 11.2MB/s]\n",
      " 40%|####      | 21.0M/52.0M [00:02<00:02, 11.1MB/s]\n",
      " 43%|####3     | 22.5M/52.0M [00:02<00:02, 11.4MB/s]\n",
      " 46%|####6     | 24.1M/52.0M [00:02<00:02, 11.4MB/s]\n",
      " 49%|####9     | 25.7M/52.0M [00:02<00:02, 11.5MB/s]\n",
      " 52%|#####2    | 27.3M/52.0M [00:02<00:02, 11.5MB/s]\n",
      " 55%|#####5    | 28.8M/52.0M [00:02<00:01, 11.7MB/s]\n",
      " 58%|#####8    | 30.4M/52.0M [00:03<00:01, 11.9MB/s]\n",
      " 61%|######1   | 32.0M/52.0M [00:03<00:01, 11.9MB/s]\n",
      " 64%|######4   | 33.6M/52.0M [00:03<00:01, 11.8MB/s]\n",
      " 68%|######7   | 35.1M/52.0M [00:03<00:01, 11.8MB/s]\n",
      " 71%|#######   | 36.7M/52.0M [00:03<00:01, 12.0MB/s]\n",
      " 74%|#######3  | 38.3M/52.0M [00:03<00:01, 11.9MB/s]\n",
      " 77%|#######6  | 39.8M/52.0M [00:03<00:01, 11.9MB/s]\n",
      " 80%|#######9  | 41.4M/52.0M [00:04<00:00, 11.6MB/s]\n",
      " 83%|########2 | 43.0M/52.0M [00:04<00:00, 10.9MB/s]\n",
      " 86%|########5 | 44.6M/52.0M [00:04<00:00, 10.7MB/s]\n",
      " 89%|########8 | 46.1M/52.0M [00:04<00:00, 11.2MB/s]\n",
      " 92%|#########1| 47.7M/52.0M [00:04<00:00, 11.4MB/s]\n",
      " 95%|#########4| 49.3M/52.0M [00:04<00:00, 11.6MB/s]\n",
      " 98%|#########7| 50.9M/52.0M [00:04<00:00, 11.8MB/s]\n",
      "100%|##########| 52.0M/52.0M [00:04<00:00, 10.5MB/s]\n"
     ]
    }
   ],
   "source": [
    "!gdown \"https://drive.google.com/uc?id=1dIyJooVaowaNUj0R1Q-HUnu-utiGsEj8&confirm=t\""
   ]
  },
  {
   "cell_type": "code",
   "execution_count": 5,
   "id": "9b9751b4",
   "metadata": {},
   "outputs": [
    {
     "name": "stderr",
     "output_type": "stream",
     "text": [
      "Downloading...\n",
      "From: https://drive.google.com/uc?id=1P-oVR0J35Dw40lzw47sE19oADSW-tyb1&confirm=t\n",
      "To: C:\\Users\\crazy\\Automatic_Number_Plate_Detection_Recognition_YOLOv8\\ultralytics\\yolo\\v8\\detect\\demo.mp4\n",
      "\n",
      "  0%|          | 0.00/9.56M [00:00<?, ?B/s]\n",
      " 11%|#         | 1.05M/9.56M [00:00<00:01, 8.12MB/s]\n",
      " 27%|##7       | 2.62M/9.56M [00:00<00:00, 10.7MB/s]\n",
      " 44%|####3     | 4.19M/9.56M [00:00<00:00, 11.2MB/s]\n",
      " 60%|######    | 5.77M/9.56M [00:00<00:00, 11.3MB/s]\n",
      " 77%|#######6  | 7.34M/9.56M [00:00<00:00, 10.6MB/s]\n",
      " 93%|#########3| 8.91M/9.56M [00:00<00:00, 10.4MB/s]\n",
      "100%|##########| 9.56M/9.56M [00:00<00:00, 10.4MB/s]\n"
     ]
    }
   ],
   "source": [
    "!gdown \"https://drive.google.com/uc?id=1P-oVR0J35Dw40lzw47sE19oADSW-tyb1&confirm=t\"\n"
   ]
  },
  {
   "cell_type": "code",
   "execution_count": 6,
   "id": "4e144135",
   "metadata": {},
   "outputs": [
    {
     "data": {
      "text/plain": [
       "'C:\\\\Users\\\\crazy\\\\Automatic_Number_Plate_Detection_Recognition_YOLOv8\\\\ultralytics\\\\yolo\\\\v8\\\\detect'"
      ]
     },
     "execution_count": 6,
     "metadata": {},
     "output_type": "execute_result"
    }
   ],
   "source": [
    "pwd\n"
   ]
  },
  {
   "cell_type": "code",
   "execution_count": 7,
   "id": "08139069",
   "metadata": {},
   "outputs": [
    {
     "name": "stderr",
     "output_type": "stream",
     "text": [
      "Downloading...\n",
      "From: https://drive.google.com/uc?id=1S6GkQcDq8W0ThaUeZ708UegHIRiVWzTo&confirm=t\n",
      "To: C:\\Users\\crazy\\Automatic_Number_Plate_Detection_Recognition_YOLOv8\\ultralytics\\yolo\\v8\\detect\\predict.py\n",
      "\n",
      "  0%|          | 0.00/4.70k [00:00<?, ?B/s]\n",
      "100%|##########| 4.70k/4.70k [00:00<?, ?B/s]\n"
     ]
    }
   ],
   "source": [
    "!gdown \"https://drive.google.com/uc?id=1S6GkQcDq8W0ThaUeZ708UegHIRiVWzTo&confirm=t\""
   ]
  },
  {
   "cell_type": "code",
   "execution_count": 9,
   "id": "996cb15b",
   "metadata": {},
   "outputs": [
    {
     "name": "stdout",
     "output_type": "stream",
     "text": [
      "Requirement already satisfied: easyocr in c:\\users\\crazy\\anaconda3\\envs\\gputest\\lib\\site-packages (1.7.0)\n",
      "Requirement already satisfied: torch in c:\\users\\crazy\\anaconda3\\envs\\gputest\\lib\\site-packages (from easyocr) (1.13.1)\n",
      "Requirement already satisfied: Pillow in c:\\users\\crazy\\anaconda3\\envs\\gputest\\lib\\site-packages (from easyocr) (9.4.0)\n",
      "Requirement already satisfied: PyYAML in c:\\users\\crazy\\anaconda3\\envs\\gputest\\lib\\site-packages (from easyocr) (6.0)\n",
      "Requirement already satisfied: numpy in c:\\users\\crazy\\anaconda3\\envs\\gputest\\lib\\site-packages (from easyocr) (1.21.6)\n",
      "Requirement already satisfied: pyclipper in c:\\users\\crazy\\anaconda3\\envs\\gputest\\lib\\site-packages (from easyocr) (1.3.0.post4)\n",
      "Requirement already satisfied: Shapely in c:\\users\\crazy\\anaconda3\\envs\\gputest\\lib\\site-packages (from easyocr) (2.0.1)\n",
      "Requirement already satisfied: scikit-image in c:\\users\\crazy\\anaconda3\\envs\\gputest\\lib\\site-packages (from easyocr) (0.19.3)\n",
      "Requirement already satisfied: python-bidi in c:\\users\\crazy\\anaconda3\\envs\\gputest\\lib\\site-packages (from easyocr) (0.4.2)\n",
      "Requirement already satisfied: opencv-python-headless in c:\\users\\crazy\\anaconda3\\envs\\gputest\\lib\\site-packages (from easyocr) (4.7.0.72)\n",
      "Requirement already satisfied: torchvision>=0.5 in c:\\users\\crazy\\anaconda3\\envs\\gputest\\lib\\site-packages (from easyocr) (0.14.1)\n",
      "Requirement already satisfied: ninja in c:\\users\\crazy\\anaconda3\\envs\\gputest\\lib\\site-packages (from easyocr) (1.11.1)\n",
      "Requirement already satisfied: scipy in c:\\users\\crazy\\anaconda3\\envs\\gputest\\lib\\site-packages (from easyocr) (1.7.3)\n",
      "Requirement already satisfied: typing-extensions in c:\\users\\crazy\\anaconda3\\envs\\gputest\\lib\\site-packages (from torchvision>=0.5->easyocr) (4.4.0)\n",
      "Requirement already satisfied: requests in c:\\users\\crazy\\anaconda3\\envs\\gputest\\lib\\site-packages (from torchvision>=0.5->easyocr) (2.28.1)\n",
      "Requirement already satisfied: six in c:\\users\\crazy\\anaconda3\\envs\\gputest\\lib\\site-packages (from python-bidi->easyocr) (1.16.0)\n",
      "Requirement already satisfied: packaging>=20.0 in c:\\users\\crazy\\anaconda3\\envs\\gputest\\lib\\site-packages (from scikit-image->easyocr) (23.0)\n",
      "Requirement already satisfied: PyWavelets>=1.1.1 in c:\\users\\crazy\\anaconda3\\envs\\gputest\\lib\\site-packages (from scikit-image->easyocr) (1.3.0)\n",
      "Requirement already satisfied: networkx>=2.2 in c:\\users\\crazy\\anaconda3\\envs\\gputest\\lib\\site-packages (from scikit-image->easyocr) (2.6.3)\n",
      "Requirement already satisfied: tifffile>=2019.7.26 in c:\\users\\crazy\\anaconda3\\envs\\gputest\\lib\\site-packages (from scikit-image->easyocr) (2021.11.2)\n",
      "Requirement already satisfied: imageio>=2.4.1 in c:\\users\\crazy\\anaconda3\\envs\\gputest\\lib\\site-packages (from scikit-image->easyocr) (2.31.0)\n",
      "Requirement already satisfied: certifi>=2017.4.17 in c:\\users\\crazy\\anaconda3\\envs\\gputest\\lib\\site-packages (from requests->torchvision>=0.5->easyocr) (2022.12.7)\n",
      "Requirement already satisfied: urllib3<1.27,>=1.21.1 in c:\\users\\crazy\\anaconda3\\envs\\gputest\\lib\\site-packages (from requests->torchvision>=0.5->easyocr) (1.26.14)\n",
      "Requirement already satisfied: idna<4,>=2.5 in c:\\users\\crazy\\anaconda3\\envs\\gputest\\lib\\site-packages (from requests->torchvision>=0.5->easyocr) (2.10)\n",
      "Requirement already satisfied: charset-normalizer<3,>=2 in c:\\users\\crazy\\anaconda3\\envs\\gputest\\lib\\site-packages (from requests->torchvision>=0.5->easyocr) (2.0.4)\n"
     ]
    }
   ],
   "source": [
    "!pip install easyocr"
   ]
  },
  {
   "cell_type": "code",
   "execution_count": 10,
   "id": "fb5ee2a2",
   "metadata": {},
   "outputs": [
    {
     "name": "stderr",
     "output_type": "stream",
     "text": [
      "WARNING  Ultralytics settings reset to defaults. \n",
      "This is normal and may be due to a recent ultralytics package update, but may have overwritten previous settings. \n",
      "You may view and update settings directly in 'C:\\Users\\crazy\\AppData\\Roaming\\Ultralytics\\settings.yaml'\n",
      "Traceback (most recent call last):\n",
      "  File \"predict.py\", line 7, in <module>\n",
      "    from ultralytics.yolo.utils import DEFAULT_CONFIG, ROOT, ops\n",
      "ImportError: cannot import name 'DEFAULT_CONFIG' from 'ultralytics.yolo.utils' (C:\\Users\\crazy\\anaconda3\\envs\\gputest\\lib\\site-packages\\ultralytics\\yolo\\utils\\__init__.py)\n",
      "Sentry is attempting to send 2 pending error messages\n",
      "Waiting up to 2 seconds\n",
      "Press Ctrl-Break to quit\n"
     ]
    }
   ],
   "source": [
    "!python predict.py model='best.pt' source='demo.mp4'"
   ]
  },
  {
   "cell_type": "code",
   "execution_count": 11,
   "id": "fd6f9daa",
   "metadata": {},
   "outputs": [
    {
     "data": {
      "text/plain": [
       "'C:\\\\Users\\\\crazy\\\\Automatic_Number_Plate_Detection_Recognition_YOLOv8\\\\ultralytics\\\\yolo\\\\v8\\\\detect'"
      ]
     },
     "execution_count": 11,
     "metadata": {},
     "output_type": "execute_result"
    }
   ],
   "source": [
    "pwd"
   ]
  },
  {
   "cell_type": "code",
   "execution_count": 12,
   "id": "72384b0b",
   "metadata": {},
   "outputs": [
    {
     "name": "stdout",
     "output_type": "stream",
     "text": [
      "C:\\Users\\crazy\\Automatic_Number_Plate_Detection_Recognition_YOLOv8\n"
     ]
    }
   ],
   "source": [
    " cd C:\\\\Users\\\\crazy\\\\Automatic_Number_Plate_Detection_Recognition_YOLOv8\\"
   ]
  },
  {
   "cell_type": "code",
   "execution_count": 13,
   "id": "d20210e0",
   "metadata": {},
   "outputs": [
    {
     "name": "stdout",
     "output_type": "stream",
     "text": [
      "Requirement already satisfied: hydra-core>=1.2.0 in c:\\users\\crazy\\anaconda3\\envs\\gputest\\lib\\site-packages (from -r requirements.txt (line 5)) (1.3.2)\n",
      "Requirement already satisfied: matplotlib>=3.2.2 in c:\\users\\crazy\\anaconda3\\envs\\gputest\\lib\\site-packages (from -r requirements.txt (line 6)) (3.5.3)\n",
      "Requirement already satisfied: numpy>=1.18.5 in c:\\users\\crazy\\anaconda3\\envs\\gputest\\lib\\site-packages (from -r requirements.txt (line 7)) (1.21.6)\n",
      "Requirement already satisfied: opencv-python>=4.1.1 in c:\\users\\crazy\\anaconda3\\envs\\gputest\\lib\\site-packages (from -r requirements.txt (line 8)) (4.7.0.72)\n",
      "Requirement already satisfied: Pillow>=7.1.2 in c:\\users\\crazy\\anaconda3\\envs\\gputest\\lib\\site-packages (from -r requirements.txt (line 9)) (9.4.0)\n",
      "Requirement already satisfied: PyYAML>=5.3.1 in c:\\users\\crazy\\anaconda3\\envs\\gputest\\lib\\site-packages (from -r requirements.txt (line 10)) (6.0)\n",
      "Requirement already satisfied: requests>=2.23.0 in c:\\users\\crazy\\anaconda3\\envs\\gputest\\lib\\site-packages (from -r requirements.txt (line 11)) (2.28.1)\n",
      "Requirement already satisfied: scipy>=1.4.1 in c:\\users\\crazy\\anaconda3\\envs\\gputest\\lib\\site-packages (from -r requirements.txt (line 12)) (1.7.3)\n",
      "Requirement already satisfied: torch>=1.7.0 in c:\\users\\crazy\\anaconda3\\envs\\gputest\\lib\\site-packages (from -r requirements.txt (line 13)) (1.13.1)\n",
      "Requirement already satisfied: torchvision>=0.8.1 in c:\\users\\crazy\\anaconda3\\envs\\gputest\\lib\\site-packages (from -r requirements.txt (line 14)) (0.14.1)\n",
      "Requirement already satisfied: tqdm>=4.64.0 in c:\\users\\crazy\\anaconda3\\envs\\gputest\\lib\\site-packages (from -r requirements.txt (line 15)) (4.65.0)\n",
      "Requirement already satisfied: tensorboard>=2.4.1 in c:\\users\\crazy\\anaconda3\\envs\\gputest\\lib\\site-packages (from -r requirements.txt (line 18)) (2.11.2)\n",
      "Requirement already satisfied: pandas>=1.1.4 in c:\\users\\crazy\\anaconda3\\envs\\gputest\\lib\\site-packages (from -r requirements.txt (line 23)) (1.3.5)\n",
      "Requirement already satisfied: seaborn>=0.11.0 in c:\\users\\crazy\\anaconda3\\envs\\gputest\\lib\\site-packages (from -r requirements.txt (line 24)) (0.12.2)\n",
      "Requirement already satisfied: ipython in c:\\users\\crazy\\anaconda3\\envs\\gputest\\lib\\site-packages (from -r requirements.txt (line 38)) (7.34.0)\n",
      "Requirement already satisfied: psutil in c:\\users\\crazy\\anaconda3\\envs\\gputest\\lib\\site-packages (from -r requirements.txt (line 39)) (5.9.4)\n",
      "Requirement already satisfied: thop>=0.1.1 in c:\\users\\crazy\\anaconda3\\envs\\gputest\\lib\\site-packages (from -r requirements.txt (line 40)) (0.1.1.post2209072238)\n",
      "Requirement already satisfied: GitPython>=3.1.24 in c:\\users\\crazy\\anaconda3\\envs\\gputest\\lib\\site-packages (from -r requirements.txt (line 46)) (3.1.31)\n",
      "Requirement already satisfied: packaging in c:\\users\\crazy\\anaconda3\\envs\\gputest\\lib\\site-packages (from hydra-core>=1.2.0->-r requirements.txt (line 5)) (23.0)\n",
      "Requirement already satisfied: omegaconf<2.4,>=2.2 in c:\\users\\crazy\\anaconda3\\envs\\gputest\\lib\\site-packages (from hydra-core>=1.2.0->-r requirements.txt (line 5)) (2.3.0)\n",
      "Requirement already satisfied: importlib-resources in c:\\users\\crazy\\anaconda3\\envs\\gputest\\lib\\site-packages (from hydra-core>=1.2.0->-r requirements.txt (line 5)) (5.2.0)\n",
      "Requirement already satisfied: antlr4-python3-runtime==4.9.* in c:\\users\\crazy\\anaconda3\\envs\\gputest\\lib\\site-packages (from hydra-core>=1.2.0->-r requirements.txt (line 5)) (4.9.3)\n",
      "Requirement already satisfied: kiwisolver>=1.0.1 in c:\\users\\crazy\\anaconda3\\envs\\gputest\\lib\\site-packages (from matplotlib>=3.2.2->-r requirements.txt (line 6)) (1.4.4)\n",
      "Requirement already satisfied: cycler>=0.10 in c:\\users\\crazy\\anaconda3\\envs\\gputest\\lib\\site-packages (from matplotlib>=3.2.2->-r requirements.txt (line 6)) (0.10.0)\n",
      "Requirement already satisfied: python-dateutil>=2.7 in c:\\users\\crazy\\anaconda3\\envs\\gputest\\lib\\site-packages (from matplotlib>=3.2.2->-r requirements.txt (line 6)) (2.8.2)\n",
      "Requirement already satisfied: pyparsing>=2.2.1 in c:\\users\\crazy\\anaconda3\\envs\\gputest\\lib\\site-packages (from matplotlib>=3.2.2->-r requirements.txt (line 6)) (2.4.7)\n",
      "Requirement already satisfied: fonttools>=4.22.0 in c:\\users\\crazy\\anaconda3\\envs\\gputest\\lib\\site-packages (from matplotlib>=3.2.2->-r requirements.txt (line 6)) (4.38.0)\n",
      "Requirement already satisfied: idna<4,>=2.5 in c:\\users\\crazy\\anaconda3\\envs\\gputest\\lib\\site-packages (from requests>=2.23.0->-r requirements.txt (line 11)) (2.10)\n",
      "Requirement already satisfied: charset-normalizer<3,>=2 in c:\\users\\crazy\\anaconda3\\envs\\gputest\\lib\\site-packages (from requests>=2.23.0->-r requirements.txt (line 11)) (2.0.4)\n",
      "Requirement already satisfied: urllib3<1.27,>=1.21.1 in c:\\users\\crazy\\anaconda3\\envs\\gputest\\lib\\site-packages (from requests>=2.23.0->-r requirements.txt (line 11)) (1.26.14)\n",
      "Requirement already satisfied: certifi>=2017.4.17 in c:\\users\\crazy\\anaconda3\\envs\\gputest\\lib\\site-packages (from requests>=2.23.0->-r requirements.txt (line 11)) (2022.12.7)\n",
      "Requirement already satisfied: typing-extensions in c:\\users\\crazy\\anaconda3\\envs\\gputest\\lib\\site-packages (from torch>=1.7.0->-r requirements.txt (line 13)) (4.4.0)\n",
      "Requirement already satisfied: colorama in c:\\users\\crazy\\anaconda3\\envs\\gputest\\lib\\site-packages (from tqdm>=4.64.0->-r requirements.txt (line 15)) (0.4.6)\n",
      "Requirement already satisfied: absl-py>=0.4 in c:\\users\\crazy\\anaconda3\\envs\\gputest\\lib\\site-packages (from tensorboard>=2.4.1->-r requirements.txt (line 18)) (1.4.0)\n",
      "Requirement already satisfied: tensorboard-data-server<0.7.0,>=0.6.0 in c:\\users\\crazy\\anaconda3\\envs\\gputest\\lib\\site-packages (from tensorboard>=2.4.1->-r requirements.txt (line 18)) (0.6.1)\n",
      "Requirement already satisfied: google-auth<3,>=1.6.3 in c:\\users\\crazy\\anaconda3\\envs\\gputest\\lib\\site-packages (from tensorboard>=2.4.1->-r requirements.txt (line 18)) (2.16.0)\n",
      "Requirement already satisfied: werkzeug>=1.0.1 in c:\\users\\crazy\\anaconda3\\envs\\gputest\\lib\\site-packages (from tensorboard>=2.4.1->-r requirements.txt (line 18)) (2.2.2)\n",
      "Requirement already satisfied: protobuf<4,>=3.9.2 in c:\\users\\crazy\\anaconda3\\envs\\gputest\\lib\\site-packages (from tensorboard>=2.4.1->-r requirements.txt (line 18)) (3.19.6)\n",
      "Requirement already satisfied: markdown>=2.6.8 in c:\\users\\crazy\\anaconda3\\envs\\gputest\\lib\\site-packages (from tensorboard>=2.4.1->-r requirements.txt (line 18)) (3.4.1)\n",
      "Requirement already satisfied: grpcio>=1.24.3 in c:\\users\\crazy\\anaconda3\\envs\\gputest\\lib\\site-packages (from tensorboard>=2.4.1->-r requirements.txt (line 18)) (1.51.1)\n",
      "Requirement already satisfied: google-auth-oauthlib<0.5,>=0.4.1 in c:\\users\\crazy\\anaconda3\\envs\\gputest\\lib\\site-packages (from tensorboard>=2.4.1->-r requirements.txt (line 18)) (0.4.6)\n",
      "Requirement already satisfied: setuptools>=41.0.0 in c:\\users\\crazy\\anaconda3\\envs\\gputest\\lib\\site-packages (from tensorboard>=2.4.1->-r requirements.txt (line 18)) (65.6.3)\n",
      "Requirement already satisfied: wheel>=0.26 in c:\\users\\crazy\\anaconda3\\envs\\gputest\\lib\\site-packages (from tensorboard>=2.4.1->-r requirements.txt (line 18)) (0.37.1)\n",
      "Requirement already satisfied: tensorboard-plugin-wit>=1.6.0 in c:\\users\\crazy\\anaconda3\\envs\\gputest\\lib\\site-packages (from tensorboard>=2.4.1->-r requirements.txt (line 18)) (1.8.1)\n",
      "Requirement already satisfied: pytz>=2017.3 in c:\\users\\crazy\\anaconda3\\envs\\gputest\\lib\\site-packages (from pandas>=1.1.4->-r requirements.txt (line 23)) (2022.7)\n",
      "Requirement already satisfied: pickleshare in c:\\users\\crazy\\anaconda3\\envs\\gputest\\lib\\site-packages (from ipython->-r requirements.txt (line 38)) (0.7.5)\n",
      "Requirement already satisfied: jedi>=0.16 in c:\\users\\crazy\\anaconda3\\envs\\gputest\\lib\\site-packages (from ipython->-r requirements.txt (line 38)) (0.18.2)\n",
      "Requirement already satisfied: traitlets>=4.2 in c:\\users\\crazy\\anaconda3\\envs\\gputest\\lib\\site-packages (from ipython->-r requirements.txt (line 38)) (5.9.0)\n",
      "Requirement already satisfied: decorator in c:\\users\\crazy\\anaconda3\\envs\\gputest\\lib\\site-packages (from ipython->-r requirements.txt (line 38)) (5.1.1)\n",
      "Requirement already satisfied: matplotlib-inline in c:\\users\\crazy\\anaconda3\\envs\\gputest\\lib\\site-packages (from ipython->-r requirements.txt (line 38)) (0.1.6)\n",
      "Requirement already satisfied: backcall in c:\\users\\crazy\\anaconda3\\envs\\gputest\\lib\\site-packages (from ipython->-r requirements.txt (line 38)) (0.2.0)\n",
      "Requirement already satisfied: pygments in c:\\users\\crazy\\anaconda3\\envs\\gputest\\lib\\site-packages (from ipython->-r requirements.txt (line 38)) (2.14.0)\n",
      "Requirement already satisfied: prompt-toolkit!=3.0.0,!=3.0.1,<3.1.0,>=2.0.0 in c:\\users\\crazy\\anaconda3\\envs\\gputest\\lib\\site-packages (from ipython->-r requirements.txt (line 38)) (3.0.36)\n",
      "Requirement already satisfied: gitdb<5,>=4.0.1 in c:\\users\\crazy\\anaconda3\\envs\\gputest\\lib\\site-packages (from GitPython>=3.1.24->-r requirements.txt (line 46)) (4.0.10)\n",
      "Requirement already satisfied: six in c:\\users\\crazy\\anaconda3\\envs\\gputest\\lib\\site-packages (from cycler>=0.10->matplotlib>=3.2.2->-r requirements.txt (line 6)) (1.16.0)\n",
      "Requirement already satisfied: smmap<6,>=3.0.1 in c:\\users\\crazy\\anaconda3\\envs\\gputest\\lib\\site-packages (from gitdb<5,>=4.0.1->GitPython>=3.1.24->-r requirements.txt (line 46)) (5.0.0)\n",
      "Requirement already satisfied: rsa<5,>=3.1.4 in c:\\users\\crazy\\anaconda3\\envs\\gputest\\lib\\site-packages (from google-auth<3,>=1.6.3->tensorboard>=2.4.1->-r requirements.txt (line 18)) (4.9)\n",
      "Requirement already satisfied: pyasn1-modules>=0.2.1 in c:\\users\\crazy\\anaconda3\\envs\\gputest\\lib\\site-packages (from google-auth<3,>=1.6.3->tensorboard>=2.4.1->-r requirements.txt (line 18)) (0.2.8)\n",
      "Requirement already satisfied: cachetools<6.0,>=2.0.0 in c:\\users\\crazy\\anaconda3\\envs\\gputest\\lib\\site-packages (from google-auth<3,>=1.6.3->tensorboard>=2.4.1->-r requirements.txt (line 18)) (5.3.0)\n",
      "Requirement already satisfied: requests-oauthlib>=0.7.0 in c:\\users\\crazy\\anaconda3\\envs\\gputest\\lib\\site-packages (from google-auth-oauthlib<0.5,>=0.4.1->tensorboard>=2.4.1->-r requirements.txt (line 18)) (1.3.1)\n",
      "Requirement already satisfied: parso<0.9.0,>=0.8.0 in c:\\users\\crazy\\anaconda3\\envs\\gputest\\lib\\site-packages (from jedi>=0.16->ipython->-r requirements.txt (line 38)) (0.8.3)\n",
      "Requirement already satisfied: importlib-metadata>=4.4 in c:\\users\\crazy\\anaconda3\\envs\\gputest\\lib\\site-packages (from markdown>=2.6.8->tensorboard>=2.4.1->-r requirements.txt (line 18)) (4.11.3)\n",
      "Requirement already satisfied: wcwidth in c:\\users\\crazy\\anaconda3\\envs\\gputest\\lib\\site-packages (from prompt-toolkit!=3.0.0,!=3.0.1,<3.1.0,>=2.0.0->ipython->-r requirements.txt (line 38)) (0.2.6)\n",
      "Requirement already satisfied: MarkupSafe>=2.1.1 in c:\\users\\crazy\\anaconda3\\envs\\gputest\\lib\\site-packages (from werkzeug>=1.0.1->tensorboard>=2.4.1->-r requirements.txt (line 18)) (2.1.1)\n",
      "Requirement already satisfied: zipp>=3.1.0 in c:\\users\\crazy\\anaconda3\\envs\\gputest\\lib\\site-packages (from importlib-resources->hydra-core>=1.2.0->-r requirements.txt (line 5)) (3.11.0)\n",
      "Requirement already satisfied: pyasn1<0.5.0,>=0.4.6 in c:\\users\\crazy\\anaconda3\\envs\\gputest\\lib\\site-packages (from pyasn1-modules>=0.2.1->google-auth<3,>=1.6.3->tensorboard>=2.4.1->-r requirements.txt (line 18)) (0.4.8)\n",
      "Requirement already satisfied: oauthlib>=3.0.0 in c:\\users\\crazy\\anaconda3\\envs\\gputest\\lib\\site-packages (from requests-oauthlib>=0.7.0->google-auth-oauthlib<0.5,>=0.4.1->tensorboard>=2.4.1->-r requirements.txt (line 18)) (3.2.2)\n"
     ]
    }
   ],
   "source": [
    "!pip install -r requirements.txt"
   ]
  },
  {
   "cell_type": "code",
   "execution_count": 15,
   "id": "a1599fd4",
   "metadata": {},
   "outputs": [
    {
     "name": "stderr",
     "output_type": "stream",
     "text": [
      "Traceback (most recent call last):\n",
      "  File \"predict.py\", line 6, in <module>\n",
      "    from ultralytics.yolo.engine.predictor import BasePredictor\n",
      "  File \"C:\\Users\\crazy\\Automatic_Number_Plate_Detection_Recognition_YOLOv8\\ultralytics\\__init__.py\", line 5, in <module>\n",
      "    from ultralytics.hub import checks\n",
      "  File \"C:\\Users\\crazy\\Automatic_Number_Plate_Detection_Recognition_YOLOv8\\ultralytics\\hub\\__init__.py\", line 10, in <module>\n",
      "    from ultralytics.hub.auth import Auth\n",
      "  File \"C:\\Users\\crazy\\Automatic_Number_Plate_Detection_Recognition_YOLOv8\\ultralytics\\hub\\auth.py\", line 5, in <module>\n",
      "    from ultralytics.hub.utils import HUB_API_ROOT, request_with_credentials\n",
      "  File \"C:\\Users\\crazy\\Automatic_Number_Plate_Detection_Recognition_YOLOv8\\ultralytics\\hub\\utils.py\", line 10, in <module>\n",
      "    from ultralytics.yolo.utils import DEFAULT_CONFIG_DICT, LOGGER, RANK, SETTINGS, TryExcept, colorstr, emojis\n",
      "  File \"C:\\Users\\crazy\\Automatic_Number_Plate_Detection_Recognition_YOLOv8\\ultralytics\\yolo\\utils\\__init__.py\", line 400, in <module>\n",
      "    SETTINGS = get_settings()\n",
      "  File \"C:\\Users\\crazy\\Automatic_Number_Plate_Detection_Recognition_YOLOv8\\ultralytics\\yolo\\utils\\__init__.py\", line 363, in get_settings\n",
      "    root = get_git_root_dir() or Path('')  # not is_pip_package()\n",
      "  File \"C:\\Users\\crazy\\Automatic_Number_Plate_Detection_Recognition_YOLOv8\\ultralytics\\yolo\\utils\\__init__.py\", line 189, in get_git_root_dir\n",
      "    output = subprocess.run([\"git\", \"rev-parse\", \"--git-dir\"], capture_output=True, check=True)\n",
      "  File \"C:\\Users\\crazy\\anaconda3\\envs\\gputest\\lib\\subprocess.py\", line 488, in run\n",
      "    with Popen(*popenargs, **kwargs) as process:\n",
      "  File \"C:\\Users\\crazy\\anaconda3\\envs\\gputest\\lib\\subprocess.py\", line 800, in __init__\n",
      "    restore_signals, start_new_session)\n",
      "  File \"C:\\Users\\crazy\\anaconda3\\envs\\gputest\\lib\\subprocess.py\", line 1207, in _execute_child\n",
      "    startupinfo)\n",
      "FileNotFoundError: [WinError 2] The system cannot find the file specified\n"
     ]
    }
   ],
   "source": [
    "!python predict.py model='best.pt' source='demo.mp4'"
   ]
  },
  {
   "cell_type": "code",
   "execution_count": 17,
   "id": "1825d6df",
   "metadata": {},
   "outputs": [
    {
     "ename": "SyntaxError",
     "evalue": "invalid syntax (3269313359.py, line 1)",
     "output_type": "error",
     "traceback": [
      "\u001b[1;36m  File \u001b[1;32m\"C:\\Users\\crazy\\AppData\\Local\\Temp\\ipykernel_50824\\3269313359.py\"\u001b[1;36m, line \u001b[1;32m1\u001b[0m\n\u001b[1;33m    cd c:\\Users\\crazy\\Automatic_Number_Plate_Detection_Recognition_YOLOv8\\ultralytics\\yolo\\v8\\detect\u001b[0m\n\u001b[1;37m       ^\u001b[0m\n\u001b[1;31mSyntaxError\u001b[0m\u001b[1;31m:\u001b[0m invalid syntax\n"
     ]
    }
   ],
   "source": [
    "cd :\\Users\\crazy\\Automatic_Number_Plate_Detection_Recognition_YOLOv8\\ultralytics\\yolo\\v8\\detect\n",
    "    "
   ]
  },
  {
   "cell_type": "code",
   "execution_count": 24,
   "id": "aec339de",
   "metadata": {},
   "outputs": [
    {
     "data": {
      "text/plain": [
       "'C:\\\\Users\\\\crazy\\\\Automatic_Number_Plate_Detection_Recognition_YOLOv8'"
      ]
     },
     "execution_count": 24,
     "metadata": {},
     "output_type": "execute_result"
    }
   ],
   "source": [
    "pwd\n"
   ]
  },
  {
   "cell_type": "code",
   "execution_count": 19,
   "id": "72f8a643",
   "metadata": {},
   "outputs": [
    {
     "name": "stdout",
     "output_type": "stream",
     "text": [
      "[WinError 3] The system cannot find the path specified: '\\\\ultralytics\\\\yolo\\\\v8\\\\detect'\n",
      "C:\\Users\\crazy\\Automatic_Number_Plate_Detection_Recognition_YOLOv8\n"
     ]
    }
   ],
   "source": [
    "cd \\ultralytics\\yolo\\v8\\detect\n"
   ]
  },
  {
   "cell_type": "code",
   "execution_count": 25,
   "id": "bdfd7d94",
   "metadata": {},
   "outputs": [
    {
     "ename": "SyntaxError",
     "evalue": "invalid syntax (448591639.py, line 1)",
     "output_type": "error",
     "traceback": [
      "\u001b[1;36m  File \u001b[1;32m\"C:\\Users\\crazy\\AppData\\Local\\Temp\\ipykernel_50824\\448591639.py\"\u001b[1;36m, line \u001b[1;32m1\u001b[0m\n\u001b[1;33m    cd C:\\\\Users\\\\crazy\\\\Automatic_Number_Plate_Detection_Recognition_YOLOv8\\\\ultralytics\\\\yolo\\\\v8\\\\detect\\\u001b[0m\n\u001b[1;37m       ^\u001b[0m\n\u001b[1;31mSyntaxError\u001b[0m\u001b[1;31m:\u001b[0m invalid syntax\n"
     ]
    }
   ],
   "source": [
    "cd C:\\\\Users\\\\crazy\\\\Automatic_Number_Plate_Detection_Recognition_YOLOv8\\\\ultralytics\\\\yolo\\\\v8\\\\detect\\\n",
    "    "
   ]
  },
  {
   "cell_type": "code",
   "execution_count": null,
   "id": "dee3db63",
   "metadata": {},
   "outputs": [],
   "source": [
    "pwd\n"
   ]
  }
 ],
 "metadata": {
  "kernelspec": {
   "display_name": "Python 3 (ipykernel)",
   "language": "python",
   "name": "python3"
  },
  "language_info": {
   "codemirror_mode": {
    "name": "ipython",
    "version": 3
   },
   "file_extension": ".py",
   "mimetype": "text/x-python",
   "name": "python",
   "nbconvert_exporter": "python",
   "pygments_lexer": "ipython3",
   "version": "3.7.16"
  }
 },
 "nbformat": 4,
 "nbformat_minor": 5
}
